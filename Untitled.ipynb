{
 "cells": [
  {
   "cell_type": "code",
   "execution_count": 7,
   "metadata": {},
   "outputs": [],
   "source": [
    "import numpy as np\n",
    "import cv2,time\n",
    "import matplotlib.pyplot as plt\n",
    "%matplotlib inline"
   ]
  },
  {
   "cell_type": "code",
   "execution_count": 8,
   "metadata": {},
   "outputs": [
    {
     "data": {
      "text/plain": [
       "True"
      ]
     },
     "execution_count": 8,
     "metadata": {},
     "output_type": "execute_result"
    }
   ],
   "source": [
    "face_cascade = cv2.CascadeClassifier('C:\\\\Users\\\\Mahesh\\\\Documents\\\\ArtificialIntelligence\\\\face detection mp4\\\\haarcascade_frontalface_default.xml')\n",
    "face_cascade.load('haarcascade_frontalface_default.xml')\n"
   ]
  },
  {
   "cell_type": "code",
   "execution_count": 13,
   "metadata": {},
   "outputs": [
    {
     "name": "stdout",
     "output_type": "stream",
     "text": [
      "no. of frames captured : 1408\n"
     ]
    }
   ],
   "source": [
    "video=cv2.VideoCapture(0)\n",
    "a=1 \n",
    "while True:\n",
    "    a+=1\n",
    "    check ,frame=video.read()\n",
    "    #print(frame)\n",
    "    frame = cv2.resize(frame,(600,600))\n",
    "    gray=cv2.cvtColor(frame,cv2.COLOR_BGR2GRAY)\n",
    "    \n",
    "    faces=face_cascade.detectMultiScale(gray,1.1,3)\n",
    "    for x,y,w,h in faces:\n",
    "        cv2.rectangle(frame, (x,y),(x+w , y+h), (255,0,0),3)\n",
    "    cv2.imshow(\"capturing\",frame)\n",
    "    key=cv2.waitKey(1)\n",
    "    if key == ord('q'):\n",
    "        break\n",
    "print(\"no. of frames captured :\",a)\n",
    "video.release()\n",
    "cv2.destroyAllWindows()"
   ]
  },
  {
   "cell_type": "code",
   "execution_count": 5,
   "metadata": {},
   "outputs": [
    {
     "data": {
      "text/plain": [
       "-1"
      ]
     },
     "execution_count": 5,
     "metadata": {},
     "output_type": "execute_result"
    }
   ],
   "source": [
    "cv2.imshow('Capturing',frame)\n",
    "cv2.waitKey(0)"
   ]
  },
  {
   "cell_type": "markdown",
   "metadata": {},
   "source": [
    "# finding faces in a video file"
   ]
  },
  {
   "cell_type": "code",
   "execution_count": 5,
   "metadata": {},
   "outputs": [
    {
     "name": "stdout",
     "output_type": "stream",
     "text": [
      "no. of frames captured : 194\n"
     ]
    }
   ],
   "source": [
    "video=cv2.VideoCapture(\"test4.mp4\")\n",
    "a=1 \n",
    "while True:\n",
    "    a+=1\n",
    "    check ,frame=video.read()\n",
    "    #print(frame)\n",
    "    #frame = cv2.resize(frame,(750,600))\n",
    "    gray=cv2.cvtColor(frame,cv2.COLOR_BGR2GRAY)\n",
    "    #frame=frame.transpose()\n",
    "    faces=face_cascade.detectMultiScale(gray,1.5,4)\n",
    "    for x,y,w,h in faces:\n",
    "        cv2.rectangle(frame, (x,y),(x+w , y+h), (255,0,0),3)\n",
    "    cv2.imshow(\"capturing\",frame)\n",
    "    key=cv2.waitKey(1)\n",
    "    if key == ord('q') or check==False:\n",
    "        break\n",
    "print(\"no. of frames captured :\",a)\n",
    "video.release()\n",
    "cv2.destroyAllWindows()"
   ]
  },
  {
   "cell_type": "code",
   "execution_count": 6,
   "metadata": {},
   "outputs": [
    {
     "name": "stdout",
     "output_type": "stream",
     "text": [
      "(1920, 1080)\n"
     ]
    }
   ],
   "source": [
    "print(gray.shape)"
   ]
  },
  {
   "cell_type": "code",
   "execution_count": null,
   "metadata": {},
   "outputs": [],
   "source": []
  }
 ],
 "metadata": {
  "kernelspec": {
   "display_name": "Python 3",
   "language": "python",
   "name": "python3"
  },
  "language_info": {
   "codemirror_mode": {
    "name": "ipython",
    "version": 3
   },
   "file_extension": ".py",
   "mimetype": "text/x-python",
   "name": "python",
   "nbconvert_exporter": "python",
   "pygments_lexer": "ipython3",
   "version": "3.7.5"
  }
 },
 "nbformat": 4,
 "nbformat_minor": 2
}
